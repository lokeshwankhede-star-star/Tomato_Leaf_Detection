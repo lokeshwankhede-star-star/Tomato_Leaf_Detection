{
 "cells": [
  {
   "cell_type": "code",
   "execution_count": 1,
   "id": "72643162",
   "metadata": {},
   "outputs": [],
   "source": [
    "# import necessary libraries\n",
    "import os\n",
    "import numpy as np\n",
    "from sklearn import svm\n",
    "from sklearn.metrics import classification_report, confusion_matrix\n",
    "from skimage import io\n",
    "from skimage.transform import resize\n",
    "from sklearn.model_selection import train_test_split"
   ]
  },
  {
   "cell_type": "code",
   "execution_count": 2,
   "id": "b8ab067f",
   "metadata": {},
   "outputs": [],
   "source": [
    "# define the path to the dataset\n",
    "dataset_path = 'C:/Users/LOKESH/OneDrive/Desktop/Dataset'\n",
    "\n",
    "# load the dataset\n",
    "X = []  # list to store feature vectors\n",
    "y = []  # list to store labels\n"
   ]
  },
  {
   "cell_type": "code",
   "execution_count": 3,
   "id": "b16d4b7f",
   "metadata": {},
   "outputs": [],
   "source": [
    "\n",
    "# loop through the dataset and extract features and labels\n",
    "for subdir, dirs, files in os.walk(dataset_path):\n",
    "    for file in files:\n",
    "        # load the image and resize it\n",
    "        image_path = os.path.join(subdir, file)\n",
    "        image = io.imread(image_path)\n",
    "        resized_image = resize(image, (64, 64), anti_aliasing=True)\n",
    "        # extract features from the resized image and add it to the X list\n",
    "        features = np.array(resized_image).flatten()\n",
    "        X.append(features)\n",
    "        # extract the label from the filename and add it to the y list\n",
    "        label = subdir.split(os.path.sep)[-1]\n",
    "        y.append(label)\n"
   ]
  },
  {
   "cell_type": "code",
   "execution_count": 4,
   "id": "2379d984",
   "metadata": {},
   "outputs": [
    {
     "data": {
      "text/plain": [
       "SVC(C=1, gamma='auto', kernel='linear')"
      ]
     },
     "execution_count": 4,
     "metadata": {},
     "output_type": "execute_result"
    }
   ],
   "source": [
    "\n",
    "# convert X and y to numpy arrays\n",
    "X = np.array(X)\n",
    "y = np.array(y)\n",
    "\n",
    "# split the data into training and testing sets\n",
    "X_train, X_test, y_train, y_test = train_test_split(X, y, test_size=0.2, random_state=42)\n",
    "\n",
    "# train an SVM model with OvR method\n",
    "svm_model = svm.SVC(kernel='linear', C=1, gamma='auto', decision_function_shape='ovr')\n",
    "svm_model.fit(X_train, y_train)\n"
   ]
  },
  {
   "cell_type": "code",
   "execution_count": 5,
   "id": "7ee1bb71",
   "metadata": {},
   "outputs": [],
   "source": [
    "train_dataset = (X_train,X_train)"
   ]
  },
  {
   "cell_type": "code",
   "execution_count": 6,
   "id": "8dddd069",
   "metadata": {},
   "outputs": [],
   "source": [
    "# use the trained model to make predictions on the testing set\n",
    "y_pred = svm_model.predict(X_test)"
   ]
  },
  {
   "cell_type": "code",
   "execution_count": 7,
   "id": "90bc9457",
   "metadata": {},
   "outputs": [
    {
     "name": "stdout",
     "output_type": "stream",
     "text": [
      "Confusion Matrix:\n",
      " [[52  4  3  0  0  0  0  0  0  2]\n",
      " [ 9  8  6  2  2  0  1  4  1  0]\n",
      " [ 2  6 28  3  0  0  2  1  1  2]\n",
      " [ 2  1  5 33  5  1  0  0  0  3]\n",
      " [ 1  1  6  6 35  2  0  3  2  3]\n",
      " [ 0  2  1  0  3 50  1  0  0  0]\n",
      " [ 1  0  1  0  0  0 37  0  0  0]\n",
      " [ 2  2  2  1  8  1  0 30  2  2]\n",
      " [ 4  2  2  0  4  4  0  1 27  1]\n",
      " [ 8  1  4  0  1  0  0  2  0 56]]\n",
      "Classification Report:\n",
      "                    precision    recall  f1-score   support\n",
      "\n",
      "   Bacterial_Spot       0.64      0.85      0.73        61\n",
      "     Early_Blight       0.30      0.24      0.27        33\n",
      "            Late_       0.48      0.62      0.54        45\n",
      "        Leaf_Mold       0.73      0.66      0.69        50\n",
      "        Leaf_Spot       0.60      0.59      0.60        59\n",
      "           Mosaic       0.86      0.88      0.87        57\n",
      "  Powdery_Mildway       0.90      0.95      0.92        39\n",
      "      Spider_Mite       0.73      0.60      0.66        50\n",
      "      Target_Spot       0.82      0.60      0.69        45\n",
      "Yellow_Leaf_Curl_       0.81      0.78      0.79        72\n",
      "\n",
      "         accuracy                           0.70       511\n",
      "        macro avg       0.69      0.68      0.68       511\n",
      "     weighted avg       0.70      0.70      0.69       511\n",
      "\n"
     ]
    }
   ],
   "source": [
    "# calculate and print the confusion matrix and classification report\n",
    "print(\"Confusion Matrix:\\n\", confusion_matrix(y_test, y_pred))\n",
    "print(\"Classification Report:\\n\", classification_report(y_test, y_pred))"
   ]
  },
  {
   "cell_type": "code",
   "execution_count": 8,
   "id": "c3e8ee2f",
   "metadata": {},
   "outputs": [],
   "source": [
    "# import necessary libraries\n",
    "import numpy as np\n",
    "from sklearn import svm\n",
    "from skimage import io\n",
    "from skimage.transform import resize"
   ]
  },
  {
   "cell_type": "code",
   "execution_count": 9,
   "id": "4d297183",
   "metadata": {},
   "outputs": [],
   "source": [
    "# load the testing image\n",
    "testing_image = io.imread(\"E:/Healthy/000bf685-b305-408b-91f4-37030f8e62db___GH_HL Leaf 308.1_flipTB.jpg\")\n",
    "resized_image = resize(testing_image, (64, 64), anti_aliasing=True)\n",
    "image_data = np.array(resized_image).reshape(1, -1)"
   ]
  },
  {
   "cell_type": "code",
   "execution_count": 10,
   "id": "75fa5a84",
   "metadata": {},
   "outputs": [
    {
     "name": "stdout",
     "output_type": "stream",
     "text": [
      "The testing image has tomato disease.\n"
     ]
    },
    {
     "name": "stderr",
     "output_type": "stream",
     "text": [
      "C:\\Users\\LOKESH\\AppData\\Local\\Temp\\ipykernel_14528\\3317228187.py:5: FutureWarning: elementwise comparison failed; returning scalar instead, but in the future will perform elementwise comparison\n",
      "  if predicted_class == 0:\n"
     ]
    }
   ],
   "source": [
    "# use the trained SVM model to predict the class of the testing image\n",
    "predicted_class = svm_model.predict(image_data)\n",
    "\n",
    "# print the predicted class\n",
    "if predicted_class == 0:\n",
    "    print(\"The testing image does not have tomato disease.\")\n",
    "else:\n",
    "    print(\"The testing image has tomato disease.\")\n"
   ]
  },
  {
   "cell_type": "code",
   "execution_count": null,
   "id": "7cdfe722",
   "metadata": {},
   "outputs": [],
   "source": []
  }
 ],
 "metadata": {
  "kernelspec": {
   "display_name": "Python 3 (ipykernel)",
   "language": "python",
   "name": "python3"
  },
  "language_info": {
   "codemirror_mode": {
    "name": "ipython",
    "version": 3
   },
   "file_extension": ".py",
   "mimetype": "text/x-python",
   "name": "python",
   "nbconvert_exporter": "python",
   "pygments_lexer": "ipython3",
   "version": "3.9.12"
  }
 },
 "nbformat": 4,
 "nbformat_minor": 5
}
